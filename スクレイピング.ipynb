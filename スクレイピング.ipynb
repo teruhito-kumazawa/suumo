{
 "cells": [
  {
   "cell_type": "code",
   "execution_count": 2,
   "id": "01e4c402-05cc-4132-ba77-a1bd244024e6",
   "metadata": {},
   "outputs": [],
   "source": [
    "import requests\n",
    "from bs4 import BeautifulSoup\n",
    "from retry import retry\n",
    "import pandas as pd "
   ]
  },
  {
   "cell_type": "code",
   "execution_count": 3,
   "id": "33acc794-ee47-4fae-8990-df63c450f27f",
   "metadata": {},
   "outputs": [],
   "source": [
    "url = 'https://news.yahoo.co.jp'\n",
    "response = requests.get(url)"
   ]
  },
  {
   "cell_type": "code",
   "execution_count": 5,
   "id": "5abd54f1-d9a6-40ca-b128-59eb10c8e162",
   "metadata": {},
   "outputs": [
    {
     "data": {
      "text/plain": [
       "'<!DOCTYPE html><html lang=\"ja\"><head><title>Yahoo!ニュース</title><meta http-equiv=\"Content-Type\" content=\"text/html; charset=UTF-8\"/><meta name=\"viewport\" content=\"width=1010\"/><meta http-equiv=\"Content-Style-Type\" content=\"text/css\"/><meta http-equiv=\"Content-Script-Type\" content=\"text/javascript\"/><meta name=\"description\" content=\"Yahoo!ニュースは、新聞・通信社が配信するニュースのほか、映像、雑誌や個人の書き手が執筆する記事など多種多様なニュースを掲載しています。\"/><meta name=\"robots\" content=\"noarchive, max-image-preview:large\"/><meta name=\"format-detection\"'"
      ]
     },
     "execution_count": 5,
     "metadata": {},
     "output_type": "execute_result"
    }
   ],
   "source": [
    "response.text[:500]"
   ]
  },
  {
   "cell_type": "code",
   "execution_count": 6,
   "id": "ae42d7b1-bdd4-4130-8b69-ac3c6e9d4b32",
   "metadata": {},
   "outputs": [
    {
     "data": {
      "text/plain": [
       "200"
      ]
     },
     "execution_count": 6,
     "metadata": {},
     "output_type": "execute_result"
    }
   ],
   "source": [
    "response.status_code"
   ]
  },
  {
   "cell_type": "code",
   "execution_count": 7,
   "id": "8a01da7a-6e94-443b-b8d0-edbdafcba6c1",
   "metadata": {},
   "outputs": [
    {
     "data": {
      "text/plain": [
       "{'Content-Type': 'text/html;charset=UTF-8', 'Cache-Control': 'private, no-cache, no-store, must-revalidate', 'Content-Encoding': 'gzip', 'Date': 'Thu, 29 Sep 2022 01:31:00 GMT', 'Strict-Transport-Security': 'max-age=15552000', 'Vary': 'Accept-Encoding', 'X-Content-Type-Options': 'nosniff', 'X-Download-Options': 'noopen', 'X-Frame-Options': 'DENY', 'X-Vcap-Request-Id': '4fd939cf-afa1-4607-75a6-2d115ac5cf66', 'X-Xss-Protection': '1; mode=block', 'Set-Cookie': 'B=5ea01iphj9taj&b=3&s=ta; expires=Sun, 29-Sep-2024 01:31:00 GMT; path=/; domain=.yahoo.co.jp; secure, A=5ea01iphj9taj&sd=B&t=1664415059&u=1664415059&v=1; expires=Fri, 29 Sep 2023 01:31:00 GMT; domain=.yahoo.co.jp; path=/; httponly; secure, XA=5ea01iphj9taj&sd=B&t=1664415059&u=1664415059&v=1; expires=Fri, 29 Sep 2023 01:31:00 GMT; domain=.yahoo.co.jp; path=/; httponly; secure; samesite=none, XB=5ea01iphj9taj&b=3&s=ta; expires=Sun, 29-Sep-2024 01:31:00 GMT; path=/; domain=.yahoo.co.jp; secure; samesite=none', 'Age': '1', 'Transfer-Encoding': 'chunked', 'Connection': 'keep-alive', 'Server': 'ATS'}"
      ]
     },
     "execution_count": 7,
     "metadata": {},
     "output_type": "execute_result"
    }
   ],
   "source": [
    "response.headers"
   ]
  },
  {
   "cell_type": "code",
   "execution_count": 8,
   "id": "0413cddf-0855-4d81-9181-71c62e2a3197",
   "metadata": {},
   "outputs": [
    {
     "name": "stdout",
     "output_type": "stream",
     "text": [
      "Content-Type    text/html;charset=UTF-8\n",
      "Cache-Control    private, no-cache, no-store, must-revalidate\n",
      "Content-Encoding    gzip\n",
      "Date    Thu, 29 Sep 2022 01:31:00 GMT\n",
      "Strict-Transport-Security    max-age=15552000\n",
      "Vary    Accept-Encoding\n",
      "X-Content-Type-Options    nosniff\n",
      "X-Download-Options    noopen\n",
      "X-Frame-Options    DENY\n",
      "X-Vcap-Request-Id    4fd939cf-afa1-4607-75a6-2d115ac5cf66\n",
      "X-Xss-Protection    1; mode=block\n",
      "Set-Cookie    B=5ea01iphj9taj&b=3&s=ta; expires=Sun, 29-Sep-2024 01:31:00 GMT; path=/; domain=.yahoo.co.jp; secure, A=5ea01iphj9taj&sd=B&t=1664415059&u=1664415059&v=1; expires=Fri, 29 Sep 2023 01:31:00 GMT; domain=.yahoo.co.jp; path=/; httponly; secure, XA=5ea01iphj9taj&sd=B&t=1664415059&u=1664415059&v=1; expires=Fri, 29 Sep 2023 01:31:00 GMT; domain=.yahoo.co.jp; path=/; httponly; secure; samesite=none, XB=5ea01iphj9taj&b=3&s=ta; expires=Sun, 29-Sep-2024 01:31:00 GMT; path=/; domain=.yahoo.co.jp; secure; samesite=none\n",
      "Age    1\n",
      "Transfer-Encoding    chunked\n",
      "Connection    keep-alive\n",
      "Server    ATS\n"
     ]
    }
   ],
   "source": [
    "for key, value in response.headers.items():\n",
    "    print(key, '  ', value)"
   ]
  },
  {
   "cell_type": "code",
   "execution_count": null,
   "id": "e72b4884-8ab9-47e3-b3c4-e17ac9894a42",
   "metadata": {},
   "outputs": [],
   "source": []
  }
 ],
 "metadata": {
  "kernelspec": {
   "display_name": "Python 3 (ipykernel)",
   "language": "python",
   "name": "python3"
  },
  "language_info": {
   "codemirror_mode": {
    "name": "ipython",
    "version": 3
   },
   "file_extension": ".py",
   "mimetype": "text/x-python",
   "name": "python",
   "nbconvert_exporter": "python",
   "pygments_lexer": "ipython3",
   "version": "3.7.13"
  }
 },
 "nbformat": 4,
 "nbformat_minor": 5
}
